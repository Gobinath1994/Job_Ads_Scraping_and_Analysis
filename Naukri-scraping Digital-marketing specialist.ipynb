{
 "cells": [
  {
   "cell_type": "code",
   "execution_count": 1,
   "metadata": {
    "ExecuteTime": {
     "end_time": "2020-04-25T12:40:29.676972Z",
     "start_time": "2020-04-25T12:40:29.668986Z"
    }
   },
   "outputs": [],
   "source": [
    "import requests\n",
    "from bs4 import BeautifulSoup\n",
    "import pandas as pd\n",
    "import re\n",
    "import time\n",
    "from IPython.display import clear_output\n",
    "import random\n",
    "from selenium.common.exceptions import NoSuchElementException"
   ]
  },
  {
   "cell_type": "code",
   "execution_count": 2,
   "metadata": {
    "ExecuteTime": {
     "end_time": "2020-04-25T08:14:07.429024Z",
     "start_time": "2020-04-25T08:14:07.425037Z"
    }
   },
   "outputs": [],
   "source": [
    "header={'user-agent':'Mozilla/5.0 (Windows NT 10.0; Win64; x64) AppleWebKit/537.36 (KHTML, like Gecko) Chrome/80.0.3987.163 Safari/537.36'}"
   ]
  },
  {
   "cell_type": "markdown",
   "metadata": {},
   "source": [
    "## Initializing selenium "
   ]
  },
  {
   "cell_type": "code",
   "execution_count": 3,
   "metadata": {
    "ExecuteTime": {
     "end_time": "2020-04-25T12:59:24.923903Z",
     "start_time": "2020-04-25T12:59:19.496945Z"
    }
   },
   "outputs": [],
   "source": [
    "from selenium import webdriver\n",
    "\n",
    "driver = webdriver.Firefox(executable_path=r'C:\\Users\\Gopinath S\\Downloads\\geckodriver.exe')"
   ]
  },
  {
   "cell_type": "markdown",
   "metadata": {
    "ExecuteTime": {
     "end_time": "2020-04-25T14:29:11.719563Z",
     "start_time": "2020-04-25T14:29:11.714577Z"
    }
   },
   "source": [
    "## scraping"
   ]
  },
  {
   "cell_type": "code",
   "execution_count": 4,
   "metadata": {
    "ExecuteTime": {
     "end_time": "2020-04-25T13:04:29.725145Z",
     "start_time": "2020-04-25T13:00:34.995578Z"
    }
   },
   "outputs": [],
   "source": [
    "Link=[]\n",
    "for page in range(1,10):#number of pages ( we can increase as per requirment )\n",
    "    driver.get(\"https://www.naukri.com/digital-marketing-specialist-jobs-in-india?k=%22digital-marketing%20specialist%22&l=india-\"+str(page))\n",
    "    timeDelay = random.randrange(0, 20)\n",
    "    time.sleep(timeDelay)\n",
    "    soup=BeautifulSoup(driver.page_source, 'lxml')#returns html of the page\n",
    "    for i in soup.findAll(attrs={'class':\"jobTuple bgWhite br4 mb-8\"}):\n",
    "        for j in i.findAll(attrs={'class':\"title fw500 ellipsis\"}):\n",
    "            Link.append(j.get('href')) #stores all the link of the job postings"
   ]
  },
  {
   "cell_type": "code",
   "execution_count": 5,
   "metadata": {
    "ExecuteTime": {
     "end_time": "2020-04-25T13:04:29.864949Z",
     "start_time": "2020-04-25T13:04:29.856960Z"
    },
    "scrolled": true
   },
   "outputs": [
    {
     "data": {
      "text/plain": [
       "180"
      ]
     },
     "execution_count": 5,
     "metadata": {},
     "output_type": "execute_result"
    }
   ],
   "source": [
    "len(Link) #total link"
   ]
  },
  {
   "cell_type": "code",
   "execution_count": 6,
   "metadata": {
    "ExecuteTime": {
     "end_time": "2020-04-25T13:54:36.016197Z",
     "start_time": "2020-04-25T13:15:32.911735Z"
    }
   },
   "outputs": [],
   "source": [
    "salary=[]\n",
    "experience=[]\n",
    "Location=[]\n",
    "description=[]\n",
    "role=[]\n",
    "industry_type=[]\n",
    "qualification=[]\n",
    "Functional_area=[]\n",
    "Employment_type=[]\n",
    "Role_category=[]\n",
    "company=[]\n",
    "skills=[]\n",
    "\n",
    "\n",
    "\n",
    "for lin in range(len(Link)):\n",
    "    driver.get(Link[lin])\n",
    "    #time.sleep(1)\n",
    "    soup=BeautifulSoup(driver.page_source, 'lxml') \n",
    "    if soup.find(attrs={'class':\"salary\"})==None: #to skip the error\n",
    "        continue\n",
    "    else:\n",
    "\n",
    "        experience.append(soup.find(attrs={'class':\"exp\"}).text)\n",
    "        salary.append(soup.find(attrs={'class':\"salary\"}).text)\n",
    "        Location.append(soup.find(attrs={'class':'loc'}).find('a').text)\n",
    "\n",
    "        \n",
    "        description.append(soup.find(attrs={'class':\"job-desc\"}).text)\n",
    "            \n",
    "\n",
    "        details=[]\n",
    "\n",
    "        for i in soup.find(attrs={'class':\"other-details\"}).findAll(attrs={'class':\"details\"}):\n",
    "            details.append(i.text)\n",
    "        \n",
    "        role.append(details[0])\n",
    "        industry_type.append(details[1])\n",
    "\n",
    "        Functional_area.append(details[2])\n",
    "        Employment_type.append(details[3])\n",
    "        Role_category.append(details[4])\n",
    "\n",
    "        qual=[]\n",
    "        for i in soup.find(attrs={'class':\"education\"}).findAll(attrs={'class':'details'}):\n",
    "            qual.append(i.text)\n",
    "        qualification.append(qual)\n",
    "      \n",
    "\n",
    "        company.append(soup.find(attrs={'class':\"about-company\"}).find(attrs={'class':\"detail dang-inner-html\"}).text)\n",
    "\n",
    "       "
   ]
  },
  {
   "cell_type": "code",
   "execution_count": 7,
   "metadata": {
    "ExecuteTime": {
     "end_time": "2020-04-25T13:54:36.353271Z",
     "start_time": "2020-04-25T13:54:36.345293Z"
    }
   },
   "outputs": [],
   "source": [
    "df=pd.DataFrame()"
   ]
  },
  {
   "cell_type": "code",
   "execution_count": 8,
   "metadata": {
    "ExecuteTime": {
     "end_time": "2020-04-25T13:54:36.641504Z",
     "start_time": "2020-04-25T13:54:36.601605Z"
    }
   },
   "outputs": [],
   "source": [
    "df['company']=company\n",
    "df['role']=role\n",
    "df['salary']=salary\n",
    "df['experience']=experience\n",
    "df['Location']=Location\n",
    "df['description']=description\n",
    "df['qualification']=qualification\n",
    "df['industry_type']=industry_type\n",
    "\n",
    "df['Functional_area']=Functional_area\n",
    "df['Employment_type']=Employment_type\n",
    "df['Role_category']=Role_category\n",
    "\n"
   ]
  },
  {
   "cell_type": "code",
   "execution_count": 9,
   "metadata": {
    "ExecuteTime": {
     "end_time": "2020-04-25T13:58:46.614503Z",
     "start_time": "2020-04-25T13:58:46.606524Z"
    }
   },
   "outputs": [
    {
     "data": {
      "text/plain": [
       "73"
      ]
     },
     "execution_count": 9,
     "metadata": {},
     "output_type": "execute_result"
    }
   ],
   "source": [
    "len(df)"
   ]
  },
  {
   "cell_type": "code",
   "execution_count": 10,
   "metadata": {
    "ExecuteTime": {
     "end_time": "2020-04-25T13:59:14.738771Z",
     "start_time": "2020-04-25T13:59:14.720819Z"
    }
   },
   "outputs": [
    {
     "data": {
      "text/html": [
       "<div>\n",
       "<style scoped>\n",
       "    .dataframe tbody tr th:only-of-type {\n",
       "        vertical-align: middle;\n",
       "    }\n",
       "\n",
       "    .dataframe tbody tr th {\n",
       "        vertical-align: top;\n",
       "    }\n",
       "\n",
       "    .dataframe thead th {\n",
       "        text-align: right;\n",
       "    }\n",
       "</style>\n",
       "<table border=\"1\" class=\"dataframe\">\n",
       "  <thead>\n",
       "    <tr style=\"text-align: right;\">\n",
       "      <th></th>\n",
       "      <th>company</th>\n",
       "      <th>role</th>\n",
       "      <th>salary</th>\n",
       "      <th>experience</th>\n",
       "      <th>Location</th>\n",
       "      <th>description</th>\n",
       "      <th>qualification</th>\n",
       "      <th>industry_type</th>\n",
       "      <th>Functional_area</th>\n",
       "      <th>Employment_type</th>\n",
       "      <th>Role_category</th>\n",
       "    </tr>\n",
       "  </thead>\n",
       "  <tbody>\n",
       "    <tr>\n",
       "      <th>0</th>\n",
       "      <td>Onco.com is a one stop platform for all your c...</td>\n",
       "      <td>RoleIT/Technical Content Developer,</td>\n",
       "      <td>₹ 4,00,000 - 8,00,000 P.A.</td>\n",
       "      <td>4 - 8 years</td>\n",
       "      <td>Bengaluru</td>\n",
       "      <td>Job descriptionROLE OVERVIEW:The Digital Marke...</td>\n",
       "      <td>[UG :Any Graduate in Any Specialization]</td>\n",
       "      <td>Industry TypeMedical, Healthcare, Hospitals,</td>\n",
       "      <td>Functional AreaIT Software - Application Progr...</td>\n",
       "      <td>Employment TypeFull Time, Permanent</td>\n",
       "      <td>Role CategoryOther</td>\n",
       "    </tr>\n",
       "    <tr>\n",
       "      <th>1</th>\n",
       "      <td>Envent Digital Technologies Pvt. LtdOur Compa...</td>\n",
       "      <td>RoleIT/Technical Content Developer,</td>\n",
       "      <td>₹ 2,50,000 - 4,00,000 P.A.</td>\n",
       "      <td>3 - 6 years</td>\n",
       "      <td>Delhi NCR</td>\n",
       "      <td>Job descriptionJob SummaryWe are seeking an ex...</td>\n",
       "      <td>[UG :Any Graduate in Any Specialization]</td>\n",
       "      <td>Industry TypeIT-Software, Software Services,</td>\n",
       "      <td>Functional AreaIT Software - Application Progr...</td>\n",
       "      <td>Employment TypeFull Time, Permanent</td>\n",
       "      <td>Role CategoryOther</td>\n",
       "    </tr>\n",
       "    <tr>\n",
       "      <th>2</th>\n",
       "      <td>Basware is the global leader in providing net...</td>\n",
       "      <td>RoleSearch Engine Marketing/SEM Specialist,</td>\n",
       "      <td>Not Disclosed</td>\n",
       "      <td>4 - 7 years</td>\n",
       "      <td>Chandigarh</td>\n",
       "      <td>Job descriptionThe Digital Marketing Specialis...</td>\n",
       "      <td>[UG :Graduation Not Required]</td>\n",
       "      <td>Industry TypeIT-Software, Software Services,</td>\n",
       "      <td>Functional AreaMarketing, Advertising, MR, PR,...</td>\n",
       "      <td>Employment TypeFull Time, Permanent</td>\n",
       "      <td>Role CategoryOnline/Digital Marketing</td>\n",
       "    </tr>\n",
       "    <tr>\n",
       "      <th>3</th>\n",
       "      <td>AMETEK is a leading manufacturer of electronic...</td>\n",
       "      <td>RoleMarketing Manager,</td>\n",
       "      <td>Not Disclosed</td>\n",
       "      <td>3 - 5 years</td>\n",
       "      <td>Bengaluru</td>\n",
       "      <td>Job description                               ...</td>\n",
       "      <td>[UG :Any Graduate in Any Specialization, PG :P...</td>\n",
       "      <td>Industry TypeAutomobile, Auto Anciliary, Auto ...</td>\n",
       "      <td>Functional AreaMarketing, Advertising, MR, PR,...</td>\n",
       "      <td>Employment TypeFull Time, Permanent</td>\n",
       "      <td>Role CategoryMarketing</td>\n",
       "    </tr>\n",
       "    <tr>\n",
       "      <th>4</th>\n",
       "      <td>Kozmo Services is an Australian owned company ...</td>\n",
       "      <td>RoleSearch Engine Optimisation /SEO Specialist,</td>\n",
       "      <td>Not Disclosed</td>\n",
       "      <td>4 - 7 years</td>\n",
       "      <td>Delhi</td>\n",
       "      <td>Job descriptionRoles and ResponsibilitiesDigit...</td>\n",
       "      <td>[UG :Any Graduate in Any Specialization, PG :A...</td>\n",
       "      <td>Industry TypeBPO, Call Centre, ITeS,</td>\n",
       "      <td>Functional AreaMarketing, Advertising, MR, PR,...</td>\n",
       "      <td>Employment TypeFull Time, Permanent</td>\n",
       "      <td>Role CategoryOnline/Digital Marketing</td>\n",
       "    </tr>\n",
       "  </tbody>\n",
       "</table>\n",
       "</div>"
      ],
      "text/plain": [
       "                                             company  \\\n",
       "0  Onco.com is a one stop platform for all your c...   \n",
       "1   Envent Digital Technologies Pvt. LtdOur Compa...   \n",
       "2   Basware is the global leader in providing net...   \n",
       "3  AMETEK is a leading manufacturer of electronic...   \n",
       "4  Kozmo Services is an Australian owned company ...   \n",
       "\n",
       "                                              role  \\\n",
       "0              RoleIT/Technical Content Developer,   \n",
       "1              RoleIT/Technical Content Developer,   \n",
       "2      RoleSearch Engine Marketing/SEM Specialist,   \n",
       "3                           RoleMarketing Manager,   \n",
       "4  RoleSearch Engine Optimisation /SEO Specialist,   \n",
       "\n",
       "                        salary   experience    Location  \\\n",
       "0  ₹ 4,00,000 - 8,00,000 P.A.   4 - 8 years   Bengaluru   \n",
       "1  ₹ 2,50,000 - 4,00,000 P.A.   3 - 6 years   Delhi NCR   \n",
       "2                Not Disclosed  4 - 7 years  Chandigarh   \n",
       "3                Not Disclosed  3 - 5 years   Bengaluru   \n",
       "4                Not Disclosed  4 - 7 years       Delhi   \n",
       "\n",
       "                                         description  \\\n",
       "0  Job descriptionROLE OVERVIEW:The Digital Marke...   \n",
       "1  Job descriptionJob SummaryWe are seeking an ex...   \n",
       "2  Job descriptionThe Digital Marketing Specialis...   \n",
       "3  Job description                               ...   \n",
       "4  Job descriptionRoles and ResponsibilitiesDigit...   \n",
       "\n",
       "                                       qualification  \\\n",
       "0           [UG :Any Graduate in Any Specialization]   \n",
       "1           [UG :Any Graduate in Any Specialization]   \n",
       "2                      [UG :Graduation Not Required]   \n",
       "3  [UG :Any Graduate in Any Specialization, PG :P...   \n",
       "4  [UG :Any Graduate in Any Specialization, PG :A...   \n",
       "\n",
       "                                       industry_type  \\\n",
       "0       Industry TypeMedical, Healthcare, Hospitals,   \n",
       "1       Industry TypeIT-Software, Software Services,   \n",
       "2       Industry TypeIT-Software, Software Services,   \n",
       "3  Industry TypeAutomobile, Auto Anciliary, Auto ...   \n",
       "4               Industry TypeBPO, Call Centre, ITeS,   \n",
       "\n",
       "                                     Functional_area  \\\n",
       "0  Functional AreaIT Software - Application Progr...   \n",
       "1  Functional AreaIT Software - Application Progr...   \n",
       "2  Functional AreaMarketing, Advertising, MR, PR,...   \n",
       "3  Functional AreaMarketing, Advertising, MR, PR,...   \n",
       "4  Functional AreaMarketing, Advertising, MR, PR,...   \n",
       "\n",
       "                       Employment_type                          Role_category  \n",
       "0  Employment TypeFull Time, Permanent                     Role CategoryOther  \n",
       "1  Employment TypeFull Time, Permanent                     Role CategoryOther  \n",
       "2  Employment TypeFull Time, Permanent  Role CategoryOnline/Digital Marketing  \n",
       "3  Employment TypeFull Time, Permanent                 Role CategoryMarketing  \n",
       "4  Employment TypeFull Time, Permanent  Role CategoryOnline/Digital Marketing  "
      ]
     },
     "execution_count": 10,
     "metadata": {},
     "output_type": "execute_result"
    }
   ],
   "source": [
    "df.head()"
   ]
  },
  {
   "cell_type": "code",
   "execution_count": 11,
   "metadata": {
    "ExecuteTime": {
     "end_time": "2020-04-25T13:59:46.039702Z",
     "start_time": "2020-04-25T13:59:45.854475Z"
    }
   },
   "outputs": [],
   "source": [
    "df.to_csv('naukri_Digital-marketing specialist.csv',index=False)"
   ]
  },
  {
   "cell_type": "code",
   "execution_count": null,
   "metadata": {
    "ExecuteTime": {
     "end_time": "2020-04-25T14:02:53.358600Z",
     "start_time": "2020-04-25T14:02:53.229742Z"
    }
   },
   "outputs": [],
   "source": []
  },
  {
   "cell_type": "code",
   "execution_count": null,
   "metadata": {},
   "outputs": [],
   "source": []
  }
 ],
 "metadata": {
  "kernelspec": {
   "display_name": "Python 3",
   "language": "python",
   "name": "python3"
  },
  "language_info": {
   "codemirror_mode": {
    "name": "ipython",
    "version": 3
   },
   "file_extension": ".py",
   "mimetype": "text/x-python",
   "name": "python",
   "nbconvert_exporter": "python",
   "pygments_lexer": "ipython3",
   "version": "3.8.3"
  },
  "varInspector": {
   "cols": {
    "lenName": 16,
    "lenType": 16,
    "lenVar": 40
   },
   "kernels_config": {
    "python": {
     "delete_cmd_postfix": "",
     "delete_cmd_prefix": "del ",
     "library": "var_list.py",
     "varRefreshCmd": "print(var_dic_list())"
    },
    "r": {
     "delete_cmd_postfix": ") ",
     "delete_cmd_prefix": "rm(",
     "library": "var_list.r",
     "varRefreshCmd": "cat(var_dic_list()) "
    }
   },
   "types_to_exclude": [
    "module",
    "function",
    "builtin_function_or_method",
    "instance",
    "_Feature"
   ],
   "window_display": false
  }
 },
 "nbformat": 4,
 "nbformat_minor": 2
}
