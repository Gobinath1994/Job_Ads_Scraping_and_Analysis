{
 "cells": [
  {
   "cell_type": "code",
   "execution_count": 1,
   "metadata": {
    "ExecuteTime": {
     "end_time": "2020-04-25T12:40:29.676972Z",
     "start_time": "2020-04-25T12:40:29.668986Z"
    }
   },
   "outputs": [],
   "source": [
    "import requests\n",
    "from bs4 import BeautifulSoup\n",
    "import pandas as pd\n",
    "import re\n",
    "import time\n",
    "from IPython.display import clear_output\n",
    "import random\n",
    "from selenium.common.exceptions import NoSuchElementException"
   ]
  },
  {
   "cell_type": "code",
   "execution_count": 2,
   "metadata": {
    "ExecuteTime": {
     "end_time": "2020-04-25T08:14:07.429024Z",
     "start_time": "2020-04-25T08:14:07.425037Z"
    }
   },
   "outputs": [],
   "source": [
    "header={'user-agent':'Mozilla/5.0 (Windows NT 10.0; Win64; x64) AppleWebKit/537.36 (KHTML, like Gecko) Chrome/80.0.3987.163 Safari/537.36'}"
   ]
  },
  {
   "cell_type": "markdown",
   "metadata": {},
   "source": [
    "## Initializing selenium "
   ]
  },
  {
   "cell_type": "code",
   "execution_count": 3,
   "metadata": {
    "ExecuteTime": {
     "end_time": "2020-04-25T12:59:24.923903Z",
     "start_time": "2020-04-25T12:59:19.496945Z"
    }
   },
   "outputs": [],
   "source": [
    "from selenium import webdriver\n",
    "\n",
    "driver = webdriver.Firefox(executable_path=r'C:\\Users\\Gopinath S\\Downloads\\geckodriver.exe')"
   ]
  },
  {
   "cell_type": "markdown",
   "metadata": {
    "ExecuteTime": {
     "end_time": "2020-04-25T14:29:11.719563Z",
     "start_time": "2020-04-25T14:29:11.714577Z"
    }
   },
   "source": [
    "## scraping"
   ]
  },
  {
   "cell_type": "code",
   "execution_count": 7,
   "metadata": {
    "ExecuteTime": {
     "end_time": "2020-04-25T13:04:29.725145Z",
     "start_time": "2020-04-25T13:00:34.995578Z"
    }
   },
   "outputs": [],
   "source": [
    "Link=[]\n",
    "for page in range(1,50): #number of pages (we can increase as per requirment)\n",
    "    driver.get(\"https://www.naukri.com/machine-learning-engineer-jobs-in-india-\"+str(page))\n",
    "    timeDelay = random.randrange(0, 20)\n",
    "    time.sleep(timeDelay) \n",
    "    soup=BeautifulSoup(driver.page_source, 'lxml')#returns html of the page\n",
    "    for i in soup.findAll(attrs={'class':\"jobTuple bgWhite br4 mb-8\"}):\n",
    "        for j in i.findAll(attrs={'class':\"title fw500 ellipsis\"}):\n",
    "            Link.append(j.get('href')) #stores all the link of the job postings"
   ]
  },
  {
   "cell_type": "code",
   "execution_count": 8,
   "metadata": {
    "ExecuteTime": {
     "end_time": "2020-04-25T13:04:29.864949Z",
     "start_time": "2020-04-25T13:04:29.856960Z"
    },
    "scrolled": true
   },
   "outputs": [
    {
     "data": {
      "text/plain": [
       "900"
      ]
     },
     "execution_count": 8,
     "metadata": {},
     "output_type": "execute_result"
    }
   ],
   "source": [
    "len(Link) #total link"
   ]
  },
  {
   "cell_type": "code",
   "execution_count": 9,
   "metadata": {
    "ExecuteTime": {
     "end_time": "2020-04-25T13:54:36.016197Z",
     "start_time": "2020-04-25T13:15:32.911735Z"
    }
   },
   "outputs": [],
   "source": [
    "salary=[]\n",
    "experience=[]\n",
    "Location=[]\n",
    "description=[]\n",
    "role=[]\n",
    "industry_type=[]\n",
    "qualification=[]\n",
    "Functional_area=[]\n",
    "Employment_type=[]\n",
    "Role_category=[]\n",
    "company=[]\n",
    "skills=[]\n",
    "\n",
    "\n",
    "\n",
    "for lin in range(len(Link)):\n",
    "    driver.get(Link[lin])\n",
    "    #time.sleep(1)\n",
    "    soup=BeautifulSoup(driver.page_source, 'lxml') \n",
    "    if soup.find(attrs={'class':\"salary\"})==None: #to skip the error\n",
    "        continue\n",
    "    else:\n",
    "\n",
    "        experience.append(soup.find(attrs={'class':\"exp\"}).text)\n",
    "        salary.append(soup.find(attrs={'class':\"salary\"}).text)\n",
    "        Location.append(soup.find(attrs={'class':'loc'}).find('a').text)\n",
    "\n",
    "        \n",
    "        description.append(soup.find(attrs={'class':\"job-desc\"}).text)\n",
    "            \n",
    "\n",
    "        details=[]\n",
    "\n",
    "        for i in soup.find(attrs={'class':\"other-details\"}).findAll(attrs={'class':\"details\"}):\n",
    "            details.append(i.text)\n",
    "        \n",
    "        role.append(details[0])\n",
    "        industry_type.append(details[1])\n",
    "\n",
    "        Functional_area.append(details[2])\n",
    "        Employment_type.append(details[3])\n",
    "        Role_category.append(details[4])\n",
    "\n",
    "        qual=[]\n",
    "        for i in soup.find(attrs={'class':\"education\"}).findAll(attrs={'class':'details'}):\n",
    "            qual.append(i.text)\n",
    "        qualification.append(qual)\n",
    "        sk=[]\n",
    "        for i in soup.find(attrs={'class':\"key-skill\"}).findAll('a'):\n",
    "            sk.append(i.text)\n",
    "        skills.append(sk)\n",
    "\n",
    "        company.append(soup.find(attrs={'class':\"about-company\"}).find(attrs={'class':\"detail dang-inner-html\"}).text)\n",
    "\n",
    "       "
   ]
  },
  {
   "cell_type": "code",
   "execution_count": 10,
   "metadata": {
    "ExecuteTime": {
     "end_time": "2020-04-25T13:54:36.353271Z",
     "start_time": "2020-04-25T13:54:36.345293Z"
    }
   },
   "outputs": [],
   "source": [
    "df=pd.DataFrame()"
   ]
  },
  {
   "cell_type": "code",
   "execution_count": 11,
   "metadata": {
    "ExecuteTime": {
     "end_time": "2020-04-25T13:54:36.641504Z",
     "start_time": "2020-04-25T13:54:36.601605Z"
    }
   },
   "outputs": [],
   "source": [
    "df['company']=company\n",
    "df['role']=role\n",
    "df['salary']=salary\n",
    "df['experience']=experience\n",
    "df['Location']=Location\n",
    "df['description']=description\n",
    "df['qualification']=qualification\n",
    "df['industry_type']=industry_type\n",
    "\n",
    "df['Functional_area']=Functional_area\n",
    "df['Employment_type']=Employment_type\n",
    "df['Role_category']=Role_category\n",
    "\n"
   ]
  },
  {
   "cell_type": "code",
   "execution_count": 12,
   "metadata": {
    "ExecuteTime": {
     "end_time": "2020-04-25T13:58:46.614503Z",
     "start_time": "2020-04-25T13:58:46.606524Z"
    }
   },
   "outputs": [
    {
     "data": {
      "text/plain": [
       "837"
      ]
     },
     "execution_count": 12,
     "metadata": {},
     "output_type": "execute_result"
    }
   ],
   "source": [
    "len(df)"
   ]
  },
  {
   "cell_type": "code",
   "execution_count": 13,
   "metadata": {
    "ExecuteTime": {
     "end_time": "2020-04-25T13:59:14.738771Z",
     "start_time": "2020-04-25T13:59:14.720819Z"
    }
   },
   "outputs": [
    {
     "data": {
      "text/html": [
       "<div>\n",
       "<style scoped>\n",
       "    .dataframe tbody tr th:only-of-type {\n",
       "        vertical-align: middle;\n",
       "    }\n",
       "\n",
       "    .dataframe tbody tr th {\n",
       "        vertical-align: top;\n",
       "    }\n",
       "\n",
       "    .dataframe thead th {\n",
       "        text-align: right;\n",
       "    }\n",
       "</style>\n",
       "<table border=\"1\" class=\"dataframe\">\n",
       "  <thead>\n",
       "    <tr style=\"text-align: right;\">\n",
       "      <th></th>\n",
       "      <th>company</th>\n",
       "      <th>role</th>\n",
       "      <th>salary</th>\n",
       "      <th>experience</th>\n",
       "      <th>Location</th>\n",
       "      <th>description</th>\n",
       "      <th>qualification</th>\n",
       "      <th>industry_type</th>\n",
       "      <th>Functional_area</th>\n",
       "      <th>Employment_type</th>\n",
       "      <th>Role_category</th>\n",
       "    </tr>\n",
       "  </thead>\n",
       "  <tbody>\n",
       "    <tr>\n",
       "      <th>0</th>\n",
       "      <td>We are currently hiring for a company that is...</td>\n",
       "      <td>RoleOther,</td>\n",
       "      <td>Not Disclosed</td>\n",
       "      <td>8 - 13 years</td>\n",
       "      <td>Mumbai</td>\n",
       "      <td>Job descriptionRoles and Responsibilities  Thi...</td>\n",
       "      <td>[UG :B.Tech/B.E. in Any Specialization, PG :MC...</td>\n",
       "      <td>Industry TypeMedia, Entertainment, Internet,</td>\n",
       "      <td>Functional AreaOther,</td>\n",
       "      <td>Employment TypeFull Time, Permanent</td>\n",
       "      <td>Role CategoryOther</td>\n",
       "    </tr>\n",
       "    <tr>\n",
       "      <th>1</th>\n",
       "      <td>DataToBiz is an AI and Data Analytics Services...</td>\n",
       "      <td>RoleData Analyst,</td>\n",
       "      <td>Not Disclosed</td>\n",
       "      <td>3 - 7 years</td>\n",
       "      <td>Chandigarh</td>\n",
       "      <td>Job descriptionRoles and ResponsibilitiesRespo...</td>\n",
       "      <td>[UG :B.Sc in Any Specialization, B.Tech/B.E. i...</td>\n",
       "      <td>Industry TypeIT-Software, Software Services,</td>\n",
       "      <td>Functional AreaAnalytics &amp; Business Intelligence,</td>\n",
       "      <td>Employment TypeFull Time, Permanent</td>\n",
       "      <td>Role CategoryAnalytics &amp; BI</td>\n",
       "    </tr>\n",
       "    <tr>\n",
       "      <th>2</th>\n",
       "      <td>DataToBiz is an AI and Data Analytics Services...</td>\n",
       "      <td>RoleData Analyst,</td>\n",
       "      <td>Not Disclosed</td>\n",
       "      <td>3 - 7 years</td>\n",
       "      <td>Chandigarh</td>\n",
       "      <td>Job descriptionRoles and Responsibilities- As ...</td>\n",
       "      <td>[UG :BCA in Computers, B.Tech/B.E. in Any Spec...</td>\n",
       "      <td>Industry TypeIT-Software, Software Services,</td>\n",
       "      <td>Functional AreaAnalytics &amp; Business Intelligence,</td>\n",
       "      <td>Employment TypeFull Time, Permanent</td>\n",
       "      <td>Role CategoryAnalytics &amp; BI</td>\n",
       "    </tr>\n",
       "    <tr>\n",
       "      <th>3</th>\n",
       "      <td>Bristlecone, the trusted partner in supply ch...</td>\n",
       "      <td>RoleIT/Technical Content Developer,</td>\n",
       "      <td>₹ 16,00,000 - 27,50,000 P.A.</td>\n",
       "      <td>9 - 14 years</td>\n",
       "      <td>Bengaluru</td>\n",
       "      <td>Job descriptionJD For Machine Learning Enginee...</td>\n",
       "      <td>[UG :Any Graduate in Any Specialization, PG :C...</td>\n",
       "      <td>Industry TypeIT-Software, Software Services,</td>\n",
       "      <td>Functional AreaIT Software - Application Progr...</td>\n",
       "      <td>Employment TypeFull Time, Permanent</td>\n",
       "      <td>Role CategoryOther</td>\n",
       "    </tr>\n",
       "    <tr>\n",
       "      <th>4</th>\n",
       "      <td>Satvat Infosol Pvt Ltd, Chennai is a CMMI ML ...</td>\n",
       "      <td>RoleSoftware Developer,</td>\n",
       "      <td>Not Disclosed</td>\n",
       "      <td>2 - 6 years</td>\n",
       "      <td>Chennai</td>\n",
       "      <td>Job descriptionExperience in creating and usin...</td>\n",
       "      <td>[UG :B.Tech/B.E. in Any Specialization, PG :Po...</td>\n",
       "      <td>Industry TypeIT-Software, Software Services,</td>\n",
       "      <td>Functional AreaIT Software - Application Progr...</td>\n",
       "      <td>Employment TypeFull Time, Permanent</td>\n",
       "      <td>Role CategoryProgramming &amp; Design</td>\n",
       "    </tr>\n",
       "  </tbody>\n",
       "</table>\n",
       "</div>"
      ],
      "text/plain": [
       "                                             company  \\\n",
       "0   We are currently hiring for a company that is...   \n",
       "1  DataToBiz is an AI and Data Analytics Services...   \n",
       "2  DataToBiz is an AI and Data Analytics Services...   \n",
       "3   Bristlecone, the trusted partner in supply ch...   \n",
       "4   Satvat Infosol Pvt Ltd, Chennai is a CMMI ML ...   \n",
       "\n",
       "                                  role                         salary  \\\n",
       "0                           RoleOther,                  Not Disclosed   \n",
       "1                    RoleData Analyst,                  Not Disclosed   \n",
       "2                    RoleData Analyst,                  Not Disclosed   \n",
       "3  RoleIT/Technical Content Developer,  ₹ 16,00,000 - 27,50,000 P.A.    \n",
       "4              RoleSoftware Developer,                  Not Disclosed   \n",
       "\n",
       "     experience    Location  \\\n",
       "0  8 - 13 years      Mumbai   \n",
       "1   3 - 7 years  Chandigarh   \n",
       "2   3 - 7 years  Chandigarh   \n",
       "3  9 - 14 years   Bengaluru   \n",
       "4   2 - 6 years     Chennai   \n",
       "\n",
       "                                         description  \\\n",
       "0  Job descriptionRoles and Responsibilities  Thi...   \n",
       "1  Job descriptionRoles and ResponsibilitiesRespo...   \n",
       "2  Job descriptionRoles and Responsibilities- As ...   \n",
       "3  Job descriptionJD For Machine Learning Enginee...   \n",
       "4  Job descriptionExperience in creating and usin...   \n",
       "\n",
       "                                       qualification  \\\n",
       "0  [UG :B.Tech/B.E. in Any Specialization, PG :MC...   \n",
       "1  [UG :B.Sc in Any Specialization, B.Tech/B.E. i...   \n",
       "2  [UG :BCA in Computers, B.Tech/B.E. in Any Spec...   \n",
       "3  [UG :Any Graduate in Any Specialization, PG :C...   \n",
       "4  [UG :B.Tech/B.E. in Any Specialization, PG :Po...   \n",
       "\n",
       "                                  industry_type  \\\n",
       "0  Industry TypeMedia, Entertainment, Internet,   \n",
       "1  Industry TypeIT-Software, Software Services,   \n",
       "2  Industry TypeIT-Software, Software Services,   \n",
       "3  Industry TypeIT-Software, Software Services,   \n",
       "4  Industry TypeIT-Software, Software Services,   \n",
       "\n",
       "                                     Functional_area  \\\n",
       "0                              Functional AreaOther,   \n",
       "1  Functional AreaAnalytics & Business Intelligence,   \n",
       "2  Functional AreaAnalytics & Business Intelligence,   \n",
       "3  Functional AreaIT Software - Application Progr...   \n",
       "4  Functional AreaIT Software - Application Progr...   \n",
       "\n",
       "                       Employment_type                      Role_category  \n",
       "0  Employment TypeFull Time, Permanent                 Role CategoryOther  \n",
       "1  Employment TypeFull Time, Permanent        Role CategoryAnalytics & BI  \n",
       "2  Employment TypeFull Time, Permanent        Role CategoryAnalytics & BI  \n",
       "3  Employment TypeFull Time, Permanent                 Role CategoryOther  \n",
       "4  Employment TypeFull Time, Permanent  Role CategoryProgramming & Design  "
      ]
     },
     "execution_count": 13,
     "metadata": {},
     "output_type": "execute_result"
    }
   ],
   "source": [
    "df.head()"
   ]
  },
  {
   "cell_type": "code",
   "execution_count": 14,
   "metadata": {
    "ExecuteTime": {
     "end_time": "2020-04-25T13:59:46.039702Z",
     "start_time": "2020-04-25T13:59:45.854475Z"
    }
   },
   "outputs": [],
   "source": [
    "df.to_csv('naukri_machine learning engineer.csv',index=False)"
   ]
  },
  {
   "cell_type": "code",
   "execution_count": null,
   "metadata": {
    "ExecuteTime": {
     "end_time": "2020-04-25T14:02:53.358600Z",
     "start_time": "2020-04-25T14:02:53.229742Z"
    }
   },
   "outputs": [],
   "source": []
  },
  {
   "cell_type": "code",
   "execution_count": null,
   "metadata": {},
   "outputs": [],
   "source": []
  }
 ],
 "metadata": {
  "kernelspec": {
   "display_name": "Python 3",
   "language": "python",
   "name": "python3"
  },
  "language_info": {
   "codemirror_mode": {
    "name": "ipython",
    "version": 3
   },
   "file_extension": ".py",
   "mimetype": "text/x-python",
   "name": "python",
   "nbconvert_exporter": "python",
   "pygments_lexer": "ipython3",
   "version": "3.8.3"
  },
  "varInspector": {
   "cols": {
    "lenName": 16,
    "lenType": 16,
    "lenVar": 40
   },
   "kernels_config": {
    "python": {
     "delete_cmd_postfix": "",
     "delete_cmd_prefix": "del ",
     "library": "var_list.py",
     "varRefreshCmd": "print(var_dic_list())"
    },
    "r": {
     "delete_cmd_postfix": ") ",
     "delete_cmd_prefix": "rm(",
     "library": "var_list.r",
     "varRefreshCmd": "cat(var_dic_list()) "
    }
   },
   "types_to_exclude": [
    "module",
    "function",
    "builtin_function_or_method",
    "instance",
    "_Feature"
   ],
   "window_display": false
  }
 },
 "nbformat": 4,
 "nbformat_minor": 2
}
