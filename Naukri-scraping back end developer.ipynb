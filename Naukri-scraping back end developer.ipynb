{
 "cells": [
  {
   "cell_type": "code",
   "execution_count": 1,
   "metadata": {
    "ExecuteTime": {
     "end_time": "2020-04-25T12:40:29.676972Z",
     "start_time": "2020-04-25T12:40:29.668986Z"
    }
   },
   "outputs": [],
   "source": [
    "import requests\n",
    "from bs4 import BeautifulSoup\n",
    "import pandas as pd\n",
    "import re\n",
    "import time\n",
    "from IPython.display import clear_output\n",
    "import random\n",
    "from selenium.common.exceptions import NoSuchElementException"
   ]
  },
  {
   "cell_type": "markdown",
   "metadata": {},
   "source": [
    "## Initializing selenium "
   ]
  },
  {
   "cell_type": "code",
   "execution_count": 3,
   "metadata": {
    "ExecuteTime": {
     "end_time": "2020-04-25T12:59:24.923903Z",
     "start_time": "2020-04-25T12:59:19.496945Z"
    }
   },
   "outputs": [],
   "source": [
    "from selenium import webdriver\n",
    "\n",
    "driver = webdriver.Firefox(executable_path='geckodriver.exe')"
   ]
  },
  {
   "cell_type": "markdown",
   "metadata": {
    "ExecuteTime": {
     "end_time": "2020-04-25T14:29:11.719563Z",
     "start_time": "2020-04-25T14:29:11.714577Z"
    }
   },
   "source": [
    "## scraping"
   ]
  },
  {
   "cell_type": "code",
   "execution_count": 4,
   "metadata": {
    "ExecuteTime": {
     "end_time": "2020-04-25T13:04:29.725145Z",
     "start_time": "2020-04-25T13:00:34.995578Z"
    }
   },
   "outputs": [],
   "source": [
    "Link=[]\n",
    "for page in range(1,5): #number of pages ( we cam increase as per requirment )\n",
    "    driver.get(\"https://www.naukri.com/back-end-developer-jobs-in-india-\"+str(page))\n",
    "    timeDelay = random.randrange(0, 10)\n",
    "    time.sleep(timeDelay)\n",
    "    soup=BeautifulSoup(driver.page_source, 'lxml')#returns html of the page\n",
    "    for i in soup.findAll(attrs={'class':\"jobTuple bgWhite br4 mb-8\"}):\n",
    "        for j in i.findAll(attrs={'class':\"title fw500 ellipsis\"}):\n",
    "            Link.append(j.get('href')) #stores all the link of the job postings"
   ]
  },
  {
   "cell_type": "code",
   "execution_count": 5,
   "metadata": {
    "ExecuteTime": {
     "end_time": "2020-04-25T13:04:29.864949Z",
     "start_time": "2020-04-25T13:04:29.856960Z"
    },
    "scrolled": true
   },
   "outputs": [
    {
     "data": {
      "text/plain": [
       "80"
      ]
     },
     "execution_count": 5,
     "metadata": {},
     "output_type": "execute_result"
    }
   ],
   "source": [
    "len(Link) #total link"
   ]
  },
  {
   "cell_type": "code",
   "execution_count": 6,
   "metadata": {
    "ExecuteTime": {
     "end_time": "2020-04-25T13:54:36.016197Z",
     "start_time": "2020-04-25T13:15:32.911735Z"
    }
   },
   "outputs": [],
   "source": [
    "salary=[]\n",
    "experience=[]\n",
    "Location=[]\n",
    "description=[]\n",
    "role=[]\n",
    "industry_type=[]\n",
    "qualification=[]\n",
    "Functional_area=[]\n",
    "Employment_type=[]\n",
    "Role_category=[]\n",
    "company=[]\n",
    "skills=[]\n",
    "\n",
    "\n",
    "\n",
    "for lin in range(len(Link)):\n",
    "    driver.get(Link[lin])\n",
    "    #time.sleep(1)\n",
    "    soup=BeautifulSoup(driver.page_source, 'lxml') \n",
    "    if soup.find(attrs={\"salary\"})==None: #to skip the error\n",
    "        continue\n",
    "    else:\n",
    "\n",
    "        experience.append(soup.find(attrs={\"exp\"}).text)\n",
    "        salary.append(soup.find(attrs={\"salary\"}).text)\n",
    "        Location.append(soup.find(attrs={'loc'}).find('a').text)\n",
    "\n",
    "        \n",
    "        description.append(soup.find(attrs={\"job-desc\"}).text)\n",
    "            \n",
    "\n",
    "        details=[]\n",
    "\n",
    "        for i in soup.find(attrs={\"other-details\"}).findAll(attrs={\"details\"}):\n",
    "            details.append(i.text)\n",
    "        \n",
    "        role.append(details[0])\n",
    "        industry_type.append(details[1])\n",
    "\n",
    "        Functional_area.append(details[2])\n",
    "        Employment_type.append(details[3])\n",
    "        Role_category.append(details[4])\n",
    "\n",
    "        qual=[]\n",
    "        for i in soup.find(attrs={\"education\"}).findAll(attrs={'details'}):\n",
    "            qual.append(i.text)\n",
    "        qualification.append(qual)\n",
    "        sk=[]\n",
    "        for i in soup.find(attrs={\"key-skill\"}).findAll('a'):\n",
    "            sk.append(i.text)\n",
    "        skills.append(sk)\n",
    "\n",
    "        company.append(soup.find(attrs={\"about-company\"}).find(attrs={\"detail dang-inner-html\"}).text)\n",
    "\n",
    "       "
   ]
  },
  {
   "cell_type": "code",
   "execution_count": 7,
   "metadata": {
    "ExecuteTime": {
     "end_time": "2020-04-25T13:54:36.353271Z",
     "start_time": "2020-04-25T13:54:36.345293Z"
    }
   },
   "outputs": [],
   "source": [
    "df=pd.DataFrame()"
   ]
  },
  {
   "cell_type": "code",
   "execution_count": 8,
   "metadata": {
    "ExecuteTime": {
     "end_time": "2020-04-25T13:54:36.641504Z",
     "start_time": "2020-04-25T13:54:36.601605Z"
    }
   },
   "outputs": [],
   "source": [
    "df['company']=company\n",
    "df['role']=role\n",
    "df['salary']=salary\n",
    "df['experience']=experience\n",
    "df['Location']=Location\n",
    "df['description']=description\n",
    "df['skills']=skills\n",
    "df['qualification']=qualification\n",
    "df['industry_type']=industry_type\n",
    "df['Functional_area']=Functional_area\n",
    "df['Employment_type']=Employment_type\n",
    "df['Role_category']=Role_category"
   ]
  },
  {
   "cell_type": "code",
   "execution_count": 9,
   "metadata": {
    "ExecuteTime": {
     "end_time": "2020-04-25T13:58:46.614503Z",
     "start_time": "2020-04-25T13:58:46.606524Z"
    }
   },
   "outputs": [
    {
     "data": {
      "text/plain": [
       "79"
      ]
     },
     "execution_count": 9,
     "metadata": {},
     "output_type": "execute_result"
    }
   ],
   "source": [
    "len(df)"
   ]
  },
  {
   "cell_type": "code",
   "execution_count": 10,
   "metadata": {
    "ExecuteTime": {
     "end_time": "2020-04-25T13:59:14.738771Z",
     "start_time": "2020-04-25T13:59:14.720819Z"
    }
   },
   "outputs": [
    {
     "data": {
      "text/html": [
       "<div>\n",
       "<style scoped>\n",
       "    .dataframe tbody tr th:only-of-type {\n",
       "        vertical-align: middle;\n",
       "    }\n",
       "\n",
       "    .dataframe tbody tr th {\n",
       "        vertical-align: top;\n",
       "    }\n",
       "\n",
       "    .dataframe thead th {\n",
       "        text-align: right;\n",
       "    }\n",
       "</style>\n",
       "<table border=\"1\" class=\"dataframe\">\n",
       "  <thead>\n",
       "    <tr style=\"text-align: right;\">\n",
       "      <th></th>\n",
       "      <th>company</th>\n",
       "      <th>role</th>\n",
       "      <th>salary</th>\n",
       "      <th>experience</th>\n",
       "      <th>Location</th>\n",
       "      <th>description</th>\n",
       "      <th>skills</th>\n",
       "      <th>qualification</th>\n",
       "      <th>industry_type</th>\n",
       "      <th>Functional_area</th>\n",
       "      <th>Employment_type</th>\n",
       "      <th>Role_category</th>\n",
       "    </tr>\n",
       "  </thead>\n",
       "  <tbody>\n",
       "    <tr>\n",
       "      <th>0</th>\n",
       "      <td>Ectosense?is a funded Health-Tech startup on a...</td>\n",
       "      <td>RoleSoftware Developer,</td>\n",
       "      <td>Not Disclosed</td>\n",
       "      <td>4 - 5 years</td>\n",
       "      <td>Bengaluru</td>\n",
       "      <td>Job description          We are looking for a ...</td>\n",
       "      <td>[Backend, Front end, data science, Signal proc...</td>\n",
       "      <td>[UG :B.Tech/B.E. in Computers, PG :Post Gradua...</td>\n",
       "      <td>Industry TypeMedical, Healthcare, Hospitals,</td>\n",
       "      <td>Functional AreaIT Software - Application Progr...</td>\n",
       "      <td>Employment TypeFull Time, Permanent</td>\n",
       "      <td>Role CategoryProgramming &amp; Design</td>\n",
       "    </tr>\n",
       "    <tr>\n",
       "      <th>1</th>\n",
       "      <td>We are introducing us as Softberry is brand na...</td>\n",
       "      <td>RoleSoftware Developer,</td>\n",
       "      <td>Not Disclosed</td>\n",
       "      <td>3 - 5 years</td>\n",
       "      <td>Bengaluru</td>\n",
       "      <td>Job description Requirements:    Compile and a...</td>\n",
       "      <td>[Computer science, Backend, Front end, Time ma...</td>\n",
       "      <td>[UG :Any Graduate in Any Specialization, PG :P...</td>\n",
       "      <td>Industry TypeAdvertising, PR, MR, Event Manage...</td>\n",
       "      <td>Functional AreaIT Software - Application Progr...</td>\n",
       "      <td>Employment TypeFull Time, Permanent</td>\n",
       "      <td>Role CategoryProgramming &amp; Design</td>\n",
       "    </tr>\n",
       "    <tr>\n",
       "      <th>2</th>\n",
       "      <td>Leading Client</td>\n",
       "      <td>RoleSoftware Developer,</td>\n",
       "      <td>Not Disclosed</td>\n",
       "      <td>0 - 1 years</td>\n",
       "      <td>Bengaluru</td>\n",
       "      <td>Job descriptionRoles and ResponsibilitiesExper...</td>\n",
       "      <td>[Golang, REST API, Java, Solution Integration,...</td>\n",
       "      <td>[UG :B.Tech/B.E. in Electronics/Telecommunicat...</td>\n",
       "      <td>Industry TypeIT-Software, Software Services,</td>\n",
       "      <td>Functional AreaIT Software - Application Progr...</td>\n",
       "      <td>Employment TypeFull Time, Permanent</td>\n",
       "      <td>Role CategoryProgramming &amp; Design</td>\n",
       "    </tr>\n",
       "    <tr>\n",
       "      <th>3</th>\n",
       "      <td>VARITE is a global IT company providing softwa...</td>\n",
       "      <td>RoleSoftware Developer,</td>\n",
       "      <td>Not Disclosed</td>\n",
       "      <td>4 - 9 years</td>\n",
       "      <td>Delhi NCR</td>\n",
       "      <td>Job descriptionRoles  and Responsibilities:   ...</td>\n",
       "      <td>[MVC Architecture, Hibernate, Algorithms, java...</td>\n",
       "      <td>[UG :Any Graduate in Any Specialization, PG :A...</td>\n",
       "      <td>Industry TypeIT-Software, Software Services,</td>\n",
       "      <td>Functional AreaIT Software - Application Progr...</td>\n",
       "      <td>Employment TypeFull Time, Permanent</td>\n",
       "      <td>Role CategoryProgramming &amp; Design</td>\n",
       "    </tr>\n",
       "    <tr>\n",
       "      <th>4</th>\n",
       "      <td>Valuefy is a premier investment technology lab...</td>\n",
       "      <td>RoleSoftware Developer,</td>\n",
       "      <td>Not Disclosed</td>\n",
       "      <td>2 - 4 years</td>\n",
       "      <td>Mumbai</td>\n",
       "      <td>Job description  Responsibilities:     Build r...</td>\n",
       "      <td>[Application design, Automation, Interpersonal...</td>\n",
       "      <td>[UG :Any Graduate in Any Specialization, PG :P...</td>\n",
       "      <td>Industry TypeIT-Software, Software Services,</td>\n",
       "      <td>Functional AreaIT Software - Application Progr...</td>\n",
       "      <td>Employment TypeFull Time, Permanent</td>\n",
       "      <td>Role CategoryProgramming &amp; Design</td>\n",
       "    </tr>\n",
       "  </tbody>\n",
       "</table>\n",
       "</div>"
      ],
      "text/plain": [
       "                                             company                     role  \\\n",
       "0  Ectosense?is a funded Health-Tech startup on a...  RoleSoftware Developer,   \n",
       "1  We are introducing us as Softberry is brand na...  RoleSoftware Developer,   \n",
       "2                                     Leading Client  RoleSoftware Developer,   \n",
       "3  VARITE is a global IT company providing softwa...  RoleSoftware Developer,   \n",
       "4  Valuefy is a premier investment technology lab...  RoleSoftware Developer,   \n",
       "\n",
       "          salary   experience   Location  \\\n",
       "0  Not Disclosed  4 - 5 years  Bengaluru   \n",
       "1  Not Disclosed  3 - 5 years  Bengaluru   \n",
       "2  Not Disclosed  0 - 1 years  Bengaluru   \n",
       "3  Not Disclosed  4 - 9 years  Delhi NCR   \n",
       "4  Not Disclosed  2 - 4 years     Mumbai   \n",
       "\n",
       "                                         description  \\\n",
       "0  Job description          We are looking for a ...   \n",
       "1  Job description Requirements:    Compile and a...   \n",
       "2  Job descriptionRoles and ResponsibilitiesExper...   \n",
       "3  Job descriptionRoles  and Responsibilities:   ...   \n",
       "4  Job description  Responsibilities:     Build r...   \n",
       "\n",
       "                                              skills  \\\n",
       "0  [Backend, Front end, data science, Signal proc...   \n",
       "1  [Computer science, Backend, Front end, Time ma...   \n",
       "2  [Golang, REST API, Java, Solution Integration,...   \n",
       "3  [MVC Architecture, Hibernate, Algorithms, java...   \n",
       "4  [Application design, Automation, Interpersonal...   \n",
       "\n",
       "                                       qualification  \\\n",
       "0  [UG :B.Tech/B.E. in Computers, PG :Post Gradua...   \n",
       "1  [UG :Any Graduate in Any Specialization, PG :P...   \n",
       "2  [UG :B.Tech/B.E. in Electronics/Telecommunicat...   \n",
       "3  [UG :Any Graduate in Any Specialization, PG :A...   \n",
       "4  [UG :Any Graduate in Any Specialization, PG :P...   \n",
       "\n",
       "                                       industry_type  \\\n",
       "0       Industry TypeMedical, Healthcare, Hospitals,   \n",
       "1  Industry TypeAdvertising, PR, MR, Event Manage...   \n",
       "2       Industry TypeIT-Software, Software Services,   \n",
       "3       Industry TypeIT-Software, Software Services,   \n",
       "4       Industry TypeIT-Software, Software Services,   \n",
       "\n",
       "                                     Functional_area  \\\n",
       "0  Functional AreaIT Software - Application Progr...   \n",
       "1  Functional AreaIT Software - Application Progr...   \n",
       "2  Functional AreaIT Software - Application Progr...   \n",
       "3  Functional AreaIT Software - Application Progr...   \n",
       "4  Functional AreaIT Software - Application Progr...   \n",
       "\n",
       "                       Employment_type                      Role_category  \n",
       "0  Employment TypeFull Time, Permanent  Role CategoryProgramming & Design  \n",
       "1  Employment TypeFull Time, Permanent  Role CategoryProgramming & Design  \n",
       "2  Employment TypeFull Time, Permanent  Role CategoryProgramming & Design  \n",
       "3  Employment TypeFull Time, Permanent  Role CategoryProgramming & Design  \n",
       "4  Employment TypeFull Time, Permanent  Role CategoryProgramming & Design  "
      ]
     },
     "execution_count": 10,
     "metadata": {},
     "output_type": "execute_result"
    }
   ],
   "source": [
    "df.head()"
   ]
  },
  {
   "cell_type": "code",
   "execution_count": 11,
   "metadata": {
    "ExecuteTime": {
     "end_time": "2020-04-25T13:59:46.039702Z",
     "start_time": "2020-04-25T13:59:45.854475Z"
    }
   },
   "outputs": [],
   "source": [
    "df.to_csv('naukri_back.csv',index=False)"
   ]
  },
  {
   "cell_type": "code",
   "execution_count": null,
   "metadata": {
    "ExecuteTime": {
     "end_time": "2020-04-25T14:02:53.358600Z",
     "start_time": "2020-04-25T14:02:53.229742Z"
    }
   },
   "outputs": [],
   "source": []
  },
  {
   "cell_type": "code",
   "execution_count": null,
   "metadata": {},
   "outputs": [],
   "source": []
  }
 ],
 "metadata": {
  "kernelspec": {
   "display_name": "Python 3 (ipykernel)",
   "language": "python",
   "name": "python3"
  },
  "language_info": {
   "codemirror_mode": {
    "name": "ipython",
    "version": 3
   },
   "file_extension": ".py",
   "mimetype": "text/x-python",
   "name": "python",
   "nbconvert_exporter": "python",
   "pygments_lexer": "ipython3",
   "version": "3.9.7"
  },
  "varInspector": {
   "cols": {
    "lenName": 16,
    "lenType": 16,
    "lenVar": 40
   },
   "kernels_config": {
    "python": {
     "delete_cmd_postfix": "",
     "delete_cmd_prefix": "del ",
     "library": "var_list.py",
     "varRefreshCmd": "print(var_dic_list())"
    },
    "r": {
     "delete_cmd_postfix": ") ",
     "delete_cmd_prefix": "rm(",
     "library": "var_list.r",
     "varRefreshCmd": "cat(var_dic_list()) "
    }
   },
   "types_to_exclude": [
    "module",
    "function",
    "builtin_function_or_method",
    "instance",
    "_Feature"
   ],
   "window_display": false
  }
 },
 "nbformat": 4,
 "nbformat_minor": 2
}
