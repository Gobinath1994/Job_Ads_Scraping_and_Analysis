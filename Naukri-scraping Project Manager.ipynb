{
 "cells": [
  {
   "cell_type": "code",
   "execution_count": 1,
   "metadata": {
    "ExecuteTime": {
     "end_time": "2020-04-25T12:40:29.676972Z",
     "start_time": "2020-04-25T12:40:29.668986Z"
    }
   },
   "outputs": [],
   "source": [
    "import requests\n",
    "from bs4 import BeautifulSoup\n",
    "import pandas as pd\n",
    "import re\n",
    "import time\n",
    "from IPython.display import clear_output\n",
    "import random\n",
    "from selenium.common.exceptions import NoSuchElementException"
   ]
  },
  {
   "cell_type": "code",
   "execution_count": 2,
   "metadata": {
    "ExecuteTime": {
     "end_time": "2020-04-25T08:14:07.429024Z",
     "start_time": "2020-04-25T08:14:07.425037Z"
    }
   },
   "outputs": [],
   "source": [
    "header={'user-agent':'Mozilla/5.0 (Windows NT 10.0; Win64; x64) AppleWebKit/537.36 (KHTML, like Gecko) Chrome/80.0.3987.163 Safari/537.36'}"
   ]
  },
  {
   "cell_type": "markdown",
   "metadata": {},
   "source": [
    "## Initializing selenium "
   ]
  },
  {
   "cell_type": "code",
   "execution_count": 3,
   "metadata": {
    "ExecuteTime": {
     "end_time": "2020-04-25T12:59:24.923903Z",
     "start_time": "2020-04-25T12:59:19.496945Z"
    }
   },
   "outputs": [],
   "source": [
    "from selenium import webdriver\n",
    "\n",
    "driver = webdriver.Firefox(executable_path=r'C:\\Users\\Gopinath S\\Downloads\\geckodriver.exe')"
   ]
  },
  {
   "cell_type": "markdown",
   "metadata": {
    "ExecuteTime": {
     "end_time": "2020-04-25T14:29:11.719563Z",
     "start_time": "2020-04-25T14:29:11.714577Z"
    }
   },
   "source": [
    "## scraping"
   ]
  },
  {
   "cell_type": "code",
   "execution_count": 4,
   "metadata": {
    "ExecuteTime": {
     "end_time": "2020-04-25T13:04:29.725145Z",
     "start_time": "2020-04-25T13:00:34.995578Z"
    }
   },
   "outputs": [],
   "source": [
    "Link=[]\n",
    "for page in range(1,100):#number of pages (we can increase as per requirment)\n",
    "    driver.get(\"https://www.naukri.com/project-manager-jobs-in-india?k=%22project%20manager%22&l=india-\"+str(page))\n",
    "    timeDelay = random.randrange(0, 20)\n",
    "    time.sleep(timeDelay)\n",
    "    soup=BeautifulSoup(driver.page_source, 'lxml')#returns html of the page\n",
    "    for i in soup.findAll(attrs={'class':\"jobTuple bgWhite br4 mb-8\"}):\n",
    "        for j in i.findAll(attrs={'class':\"title fw500 ellipsis\"}):\n",
    "            Link.append(j.get('href')) #stores all the link of the job postings"
   ]
  },
  {
   "cell_type": "code",
   "execution_count": 5,
   "metadata": {
    "ExecuteTime": {
     "end_time": "2020-04-25T13:04:29.864949Z",
     "start_time": "2020-04-25T13:04:29.856960Z"
    },
    "scrolled": true
   },
   "outputs": [
    {
     "data": {
      "text/plain": [
       "1860"
      ]
     },
     "execution_count": 5,
     "metadata": {},
     "output_type": "execute_result"
    }
   ],
   "source": [
    "len(Link) #total link"
   ]
  },
  {
   "cell_type": "code",
   "execution_count": 6,
   "metadata": {
    "ExecuteTime": {
     "end_time": "2020-04-25T13:54:36.016197Z",
     "start_time": "2020-04-25T13:15:32.911735Z"
    }
   },
   "outputs": [],
   "source": [
    "salary=[]\n",
    "experience=[]\n",
    "Location=[]\n",
    "description=[]\n",
    "role=[]\n",
    "industry_type=[]\n",
    "qualification=[]\n",
    "Functional_area=[]\n",
    "Employment_type=[]\n",
    "Role_category=[]\n",
    "company=[]\n",
    "skills=[]\n",
    "\n",
    "\n",
    "\n",
    "for lin in range(len(Link)):\n",
    "    driver.get(Link[lin])\n",
    "    #time.sleep(1)\n",
    "    soup=BeautifulSoup(driver.page_source, 'lxml') \n",
    "    if soup.find(attrs={'class':\"salary\"})==None: #to skip the error\n",
    "        continue\n",
    "    else:\n",
    "\n",
    "        experience.append(soup.find(attrs={'class':\"exp\"}).text)\n",
    "        salary.append(soup.find(attrs={'class':\"salary\"}).text)\n",
    "        Location.append(soup.find(attrs={'class':'loc'}).find('a').text)\n",
    "\n",
    "        \n",
    "        description.append(soup.find(attrs={'class':\"job-desc\"}).text)\n",
    "            \n",
    "\n",
    "        details=[]\n",
    "\n",
    "        for i in soup.find(attrs={'class':\"other-details\"}).findAll(attrs={'class':\"details\"}):\n",
    "            details.append(i.text)\n",
    "        \n",
    "        role.append(details[0])\n",
    "        industry_type.append(details[1])\n",
    "\n",
    "        Functional_area.append(details[2])\n",
    "        Employment_type.append(details[3])\n",
    "        Role_category.append(details[4])\n",
    "\n",
    "        qual=[]\n",
    "        for i in soup.find(attrs={'class':\"education\"}).findAll(attrs={'class':'details'}):\n",
    "            qual.append(i.text)\n",
    "        qualification.append(qual)\n",
    "      \n",
    "\n",
    "        company.append(soup.find(attrs={'class':\"about-company\"}).find(attrs={'class':\"detail dang-inner-html\"}).text)\n",
    "\n",
    "       "
   ]
  },
  {
   "cell_type": "code",
   "execution_count": 7,
   "metadata": {
    "ExecuteTime": {
     "end_time": "2020-04-25T13:54:36.353271Z",
     "start_time": "2020-04-25T13:54:36.345293Z"
    }
   },
   "outputs": [],
   "source": [
    "df=pd.DataFrame()"
   ]
  },
  {
   "cell_type": "code",
   "execution_count": 8,
   "metadata": {
    "ExecuteTime": {
     "end_time": "2020-04-25T13:54:36.641504Z",
     "start_time": "2020-04-25T13:54:36.601605Z"
    }
   },
   "outputs": [],
   "source": [
    "df['company']=company\n",
    "df['role']=role\n",
    "df['salary']=salary\n",
    "df['experience']=experience\n",
    "df['Location']=Location\n",
    "df['description']=description\n",
    "df['qualification']=qualification\n",
    "df['industry_type']=industry_type\n",
    "\n",
    "df['Functional_area']=Functional_area\n",
    "df['Employment_type']=Employment_type\n",
    "df['Role_category']=Role_category\n",
    "\n"
   ]
  },
  {
   "cell_type": "code",
   "execution_count": 9,
   "metadata": {
    "ExecuteTime": {
     "end_time": "2020-04-25T13:58:46.614503Z",
     "start_time": "2020-04-25T13:58:46.606524Z"
    }
   },
   "outputs": [
    {
     "data": {
      "text/plain": [
       "1736"
      ]
     },
     "execution_count": 9,
     "metadata": {},
     "output_type": "execute_result"
    }
   ],
   "source": [
    "len(df)"
   ]
  },
  {
   "cell_type": "code",
   "execution_count": 10,
   "metadata": {
    "ExecuteTime": {
     "end_time": "2020-04-25T13:59:14.738771Z",
     "start_time": "2020-04-25T13:59:14.720819Z"
    }
   },
   "outputs": [
    {
     "data": {
      "text/html": [
       "<div>\n",
       "<style scoped>\n",
       "    .dataframe tbody tr th:only-of-type {\n",
       "        vertical-align: middle;\n",
       "    }\n",
       "\n",
       "    .dataframe tbody tr th {\n",
       "        vertical-align: top;\n",
       "    }\n",
       "\n",
       "    .dataframe thead th {\n",
       "        text-align: right;\n",
       "    }\n",
       "</style>\n",
       "<table border=\"1\" class=\"dataframe\">\n",
       "  <thead>\n",
       "    <tr style=\"text-align: right;\">\n",
       "      <th></th>\n",
       "      <th>company</th>\n",
       "      <th>role</th>\n",
       "      <th>salary</th>\n",
       "      <th>experience</th>\n",
       "      <th>Location</th>\n",
       "      <th>description</th>\n",
       "      <th>qualification</th>\n",
       "      <th>industry_type</th>\n",
       "      <th>Functional_area</th>\n",
       "      <th>Employment_type</th>\n",
       "      <th>Role_category</th>\n",
       "    </tr>\n",
       "  </thead>\n",
       "  <tbody>\n",
       "    <tr>\n",
       "      <th>0</th>\n",
       "      <td>Tekishub always strives and maintains to face...</td>\n",
       "      <td>RoleProject Manager-IT/Software,</td>\n",
       "      <td>₹ 9,00,000 - 15,00,000 P.A.</td>\n",
       "      <td>9 - 14 years</td>\n",
       "      <td>Chennai</td>\n",
       "      <td>Job description SLA   Management Manage perfor...</td>\n",
       "      <td>[UG :Any Graduate in Any Specialization, PG :A...</td>\n",
       "      <td>Industry TypeRecruitment, Staffing,</td>\n",
       "      <td>Functional AreaIT Software - Application Progr...</td>\n",
       "      <td>Employment TypeFull Time, Permanent</td>\n",
       "      <td>Role CategoryProject Management</td>\n",
       "    </tr>\n",
       "    <tr>\n",
       "      <th>1</th>\n",
       "      <td>Pinnacle Infotech offers Building Information...</td>\n",
       "      <td>RoleProject Manager-Production/Manufacturing/M...</td>\n",
       "      <td>Not Disclosed</td>\n",
       "      <td>20 - 25 years</td>\n",
       "      <td>Jaipur</td>\n",
       "      <td>Job descriptionRoles and Responsibilities Mana...</td>\n",
       "      <td>[PG :M.Tech in Any Specialization]</td>\n",
       "      <td>Industry TypeIT-Software, Software Services,</td>\n",
       "      <td>Functional AreaSite Engineering, Project Manag...</td>\n",
       "      <td>Employment TypeFull Time, Permanent</td>\n",
       "      <td>Role CategoryProject Management</td>\n",
       "    </tr>\n",
       "    <tr>\n",
       "      <th>2</th>\n",
       "      <td>Infraprime Logistics Technologies Pvt Ltd is a...</td>\n",
       "      <td>RoleProject Manager-Telecom,</td>\n",
       "      <td>₹ 2,50,000 - 4,00,000 P.A.</td>\n",
       "      <td>2 - 6 years</td>\n",
       "      <td>Raiganj</td>\n",
       "      <td>Job descriptionRoles and Responsibilities Over...</td>\n",
       "      <td>[UG :B.Tech/B.E. in Civil]</td>\n",
       "      <td>Industry TypeConstruction, Engineering, Cement...</td>\n",
       "      <td>Functional AreaSite Engineering, Project Manag...</td>\n",
       "      <td>Employment TypeFull Time, Permanent</td>\n",
       "      <td>Role CategoryProject Management</td>\n",
       "    </tr>\n",
       "    <tr>\n",
       "      <th>3</th>\n",
       "      <td>Ness is a leading ????custom software developm...</td>\n",
       "      <td>RoleRegional Manager,</td>\n",
       "      <td>Not Disclosed</td>\n",
       "      <td>7 - 9 years</td>\n",
       "      <td>Mumbai</td>\n",
       "      <td>Job description        Job Responsibilities:  ...</td>\n",
       "      <td>[UG :Any Graduate in Any Specialization, PG :P...</td>\n",
       "      <td>Industry TypeIT-Software, Software Services,</td>\n",
       "      <td>Functional AreaSales, Retail, Business Develop...</td>\n",
       "      <td>Employment TypeFull Time, Permanent</td>\n",
       "      <td>Role CategoryRetail Sales</td>\n",
       "    </tr>\n",
       "    <tr>\n",
       "      <th>4</th>\n",
       "      <td>Seven Lakes Technologies</td>\n",
       "      <td>RoleSoftware Developer,</td>\n",
       "      <td>Not Disclosed</td>\n",
       "      <td>10 - 15 years</td>\n",
       "      <td>Mumbai</td>\n",
       "      <td>Job description  The Technical Project Manager...</td>\n",
       "      <td>[UG :Any Graduate in Any Specialization, B.A i...</td>\n",
       "      <td>Industry TypeIT-Software, Software Services,</td>\n",
       "      <td>Functional AreaIT Software - Application Progr...</td>\n",
       "      <td>Employment TypeFull Time, Permanent</td>\n",
       "      <td>Role CategoryProgramming &amp; Design</td>\n",
       "    </tr>\n",
       "  </tbody>\n",
       "</table>\n",
       "</div>"
      ],
      "text/plain": [
       "                                             company  \\\n",
       "0   Tekishub always strives and maintains to face...   \n",
       "1   Pinnacle Infotech offers Building Information...   \n",
       "2  Infraprime Logistics Technologies Pvt Ltd is a...   \n",
       "3  Ness is a leading ????custom software developm...   \n",
       "4                           Seven Lakes Technologies   \n",
       "\n",
       "                                                role  \\\n",
       "0                   RoleProject Manager-IT/Software,   \n",
       "1  RoleProject Manager-Production/Manufacturing/M...   \n",
       "2                       RoleProject Manager-Telecom,   \n",
       "3                              RoleRegional Manager,   \n",
       "4                            RoleSoftware Developer,   \n",
       "\n",
       "                         salary     experience Location  \\\n",
       "0  ₹ 9,00,000 - 15,00,000 P.A.    9 - 14 years  Chennai   \n",
       "1                 Not Disclosed  20 - 25 years   Jaipur   \n",
       "2   ₹ 2,50,000 - 4,00,000 P.A.     2 - 6 years  Raiganj   \n",
       "3                 Not Disclosed    7 - 9 years   Mumbai   \n",
       "4                 Not Disclosed  10 - 15 years   Mumbai   \n",
       "\n",
       "                                         description  \\\n",
       "0  Job description SLA   Management Manage perfor...   \n",
       "1  Job descriptionRoles and Responsibilities Mana...   \n",
       "2  Job descriptionRoles and Responsibilities Over...   \n",
       "3  Job description        Job Responsibilities:  ...   \n",
       "4  Job description  The Technical Project Manager...   \n",
       "\n",
       "                                       qualification  \\\n",
       "0  [UG :Any Graduate in Any Specialization, PG :A...   \n",
       "1                 [PG :M.Tech in Any Specialization]   \n",
       "2                         [UG :B.Tech/B.E. in Civil]   \n",
       "3  [UG :Any Graduate in Any Specialization, PG :P...   \n",
       "4  [UG :Any Graduate in Any Specialization, B.A i...   \n",
       "\n",
       "                                       industry_type  \\\n",
       "0                Industry TypeRecruitment, Staffing,   \n",
       "1       Industry TypeIT-Software, Software Services,   \n",
       "2  Industry TypeConstruction, Engineering, Cement...   \n",
       "3       Industry TypeIT-Software, Software Services,   \n",
       "4       Industry TypeIT-Software, Software Services,   \n",
       "\n",
       "                                     Functional_area  \\\n",
       "0  Functional AreaIT Software - Application Progr...   \n",
       "1  Functional AreaSite Engineering, Project Manag...   \n",
       "2  Functional AreaSite Engineering, Project Manag...   \n",
       "3  Functional AreaSales, Retail, Business Develop...   \n",
       "4  Functional AreaIT Software - Application Progr...   \n",
       "\n",
       "                       Employment_type                      Role_category  \n",
       "0  Employment TypeFull Time, Permanent    Role CategoryProject Management  \n",
       "1  Employment TypeFull Time, Permanent    Role CategoryProject Management  \n",
       "2  Employment TypeFull Time, Permanent    Role CategoryProject Management  \n",
       "3  Employment TypeFull Time, Permanent          Role CategoryRetail Sales  \n",
       "4  Employment TypeFull Time, Permanent  Role CategoryProgramming & Design  "
      ]
     },
     "execution_count": 10,
     "metadata": {},
     "output_type": "execute_result"
    }
   ],
   "source": [
    "df.head()"
   ]
  },
  {
   "cell_type": "code",
   "execution_count": 11,
   "metadata": {
    "ExecuteTime": {
     "end_time": "2020-04-25T13:59:46.039702Z",
     "start_time": "2020-04-25T13:59:45.854475Z"
    }
   },
   "outputs": [],
   "source": [
    "df.to_csv('naukri_Project Manager.csv',index=False)"
   ]
  },
  {
   "cell_type": "code",
   "execution_count": null,
   "metadata": {
    "ExecuteTime": {
     "end_time": "2020-04-25T14:02:53.358600Z",
     "start_time": "2020-04-25T14:02:53.229742Z"
    }
   },
   "outputs": [],
   "source": []
  },
  {
   "cell_type": "code",
   "execution_count": null,
   "metadata": {},
   "outputs": [],
   "source": []
  }
 ],
 "metadata": {
  "kernelspec": {
   "display_name": "Python 3",
   "language": "python",
   "name": "python3"
  },
  "language_info": {
   "codemirror_mode": {
    "name": "ipython",
    "version": 3
   },
   "file_extension": ".py",
   "mimetype": "text/x-python",
   "name": "python",
   "nbconvert_exporter": "python",
   "pygments_lexer": "ipython3",
   "version": "3.8.3"
  },
  "varInspector": {
   "cols": {
    "lenName": 16,
    "lenType": 16,
    "lenVar": 40
   },
   "kernels_config": {
    "python": {
     "delete_cmd_postfix": "",
     "delete_cmd_prefix": "del ",
     "library": "var_list.py",
     "varRefreshCmd": "print(var_dic_list())"
    },
    "r": {
     "delete_cmd_postfix": ") ",
     "delete_cmd_prefix": "rm(",
     "library": "var_list.r",
     "varRefreshCmd": "cat(var_dic_list()) "
    }
   },
   "types_to_exclude": [
    "module",
    "function",
    "builtin_function_or_method",
    "instance",
    "_Feature"
   ],
   "window_display": false
  }
 },
 "nbformat": 4,
 "nbformat_minor": 2
}
